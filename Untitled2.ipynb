{
  "nbformat": 4,
  "nbformat_minor": 0,
  "metadata": {
    "colab": {
      "provenance": [],
      "authorship_tag": "ABX9TyOhBMEcriK/4aMr/KspqJc5",
      "include_colab_link": true
    },
    "kernelspec": {
      "name": "python3",
      "display_name": "Python 3"
    },
    "language_info": {
      "name": "python"
    }
  },
  "cells": [
    {
      "cell_type": "markdown",
      "metadata": {
        "id": "view-in-github",
        "colab_type": "text"
      },
      "source": [
        "<a href=\"https://colab.research.google.com/github/beqbuulaat/AI-English-bot/blob/main/Untitled2.ipynb\" target=\"_parent\"><img src=\"https://colab.research.google.com/assets/colab-badge.svg\" alt=\"Open In Colab\"/></a>"
      ]
    },
    {
      "cell_type": "code",
      "source": [
        "import random\n",
        "\n",
        "def random_player(prev_play):\n",
        "    return random.choice([\"R\", \"P\", \"S\"])\n",
        "\n",
        "def quincy(prev_play):\n",
        "    if not hasattr(quincy, \"plays\"):\n",
        "        quincy.plays = 0\n",
        "    result = [\"R\", \"P\", \"S\"][quincy.plays % 3]\n",
        "    quincy.plays += 1\n",
        "    return result\n",
        "\n",
        "def abbey(prev_play):\n",
        "    if not hasattr(abbey, \"last_opponent_play\"):\n",
        "        abbey.last_opponent_play = \"\"\n",
        "    if abbey.last_opponent_play == \"\":\n",
        "        result = \"R\"\n",
        "    else:\n",
        "        result = abbey.last_opponent_play\n",
        "    abbey.last_opponent_play = prev_play\n",
        "    return result\n",
        "\n",
        "def kris(prev_play):\n",
        "    return random.choice([\"R\", \"P\", \"S\"])\n",
        "\n",
        "def mrugesh(prev_play):\n",
        "    if not hasattr(mrugesh, \"opponent_history\"):\n",
        "        mrugesh.opponent_history = []\n",
        "    if prev_play:\n",
        "        mrugesh.opponent_history.append(prev_play)\n",
        "    guess = \"R\"\n",
        "    if len(mrugesh.opponent_history) > 0:\n",
        "        last_ten = mrugesh.opponent_history[-10:]\n",
        "        most_common = max(set(last_ten), key=last_ten.count)\n",
        "        guess = most_common\n",
        "    return beat(guess)\n",
        "\n",
        "def beat(move):\n",
        "    if move == \"R\":\n",
        "        return \"P\"\n",
        "    elif move == \"P\":\n",
        "        return \"S\"\n",
        "    else:\n",
        "        return \"R\"\n",
        "\n",
        "def play(player1, player2, num_games=1000, verbose=False):\n",
        "    p1_prev = \"\"\n",
        "    p2_prev = \"\"\n",
        "    p1_score = 0\n",
        "    p2_score = 0\n",
        "    ties = 0\n",
        "    for _ in range(num_games):\n",
        "        p1 = player1(p2_prev)\n",
        "        p2 = player2(p1_prev)\n",
        "\n",
        "        if p1 == p2:\n",
        "            ties += 1\n",
        "        elif (\n",
        "            (p1 == \"R\" and p2 == \"S\") or\n",
        "            (p1 == \"P\" and p2 == \"R\") or\n",
        "            (p1 == \"S\" and p2 == \"P\")\n",
        "        ):\n",
        "            p1_score += 1\n",
        "        else:\n",
        "            p2_score += 1\n",
        "\n",
        "        p1_prev = p1\n",
        "        p2_prev = p2\n",
        "\n",
        "        if verbose:\n",
        "            print(f\"You played: {p1} | Opponent played: {p2}\")\n",
        "    return {\n",
        "        \"Player 1\": p1_score,\n",
        "        \"Player 2\": p2_score,\n",
        "        \"Ties\": ties\n",
        "    }"
      ],
      "metadata": {
        "id": "ERh-LXwQfWXI"
      },
      "execution_count": 17,
      "outputs": []
    },
    {
      "cell_type": "code",
      "source": [
        "import random\n",
        "\n",
        "def player(prev_play, opponent_history=[]):\n",
        "    if prev_play:\n",
        "        opponent_history.append(prev_play)\n",
        "\n",
        "    if not hasattr(player, \"histories\"):\n",
        "        player.histories = {}\n",
        "        player.last_sequence = \"\"\n",
        "\n",
        "    # Добавим последние 3 хода оппонента как ключ\n",
        "    if len(opponent_history) >= 3:\n",
        "        player.last_sequence = \"\".join(opponent_history[-3:])\n",
        "        if player.last_sequence not in player.histories:\n",
        "            player.histories[player.last_sequence] = {\"R\": 0, \"P\": 0, \"S\": 0}\n",
        "        if len(opponent_history) >= 4:\n",
        "            next_move = opponent_history[-1]\n",
        "            seq = \"\".join(opponent_history[-4:-1])\n",
        "            if seq in player.histories:\n",
        "                player.histories[seq][next_move] += 1\n",
        "\n",
        "        # Предсказать следующий ход соперника\n",
        "        guess = max(player.histories[player.last_sequence], key=player.histories[player.last_sequence].get)\n",
        "    elif len(opponent_history) > 0:\n",
        "        guess = opponent_history[-1]\n",
        "    else:\n",
        "        guess = random.choice([\"R\", \"P\", \"S\"])\n",
        "\n",
        "    # Победить предсказанный ход\n",
        "    beats = {\"R\": \"P\", \"P\": \"S\", \"S\": \"R\"}\n",
        "    return beats[guess]"
      ],
      "metadata": {
        "id": "eVgvU9tJhEMq"
      },
      "execution_count": 25,
      "outputs": []
    },
    {
      "cell_type": "code",
      "source": [
        "# Импортируем всё из RPS_game.py и RPS.py (если ты всё в одном Colab — просто запускай)\n",
        "\n",
        "# Тестируем нашу функцию против каждого бота\n",
        "results = play(player, quincy, 1000)\n",
        "print(\"Vs Quincy:\", results)\n",
        "\n",
        "results = play(player, abbey, 1000)\n",
        "print(\"Vs Abbey:\", results)\n",
        "\n",
        "results = play(player, kris, 1000)\n",
        "print(\"Vs Kris:\", results)\n",
        "\n",
        "results = play(player, mrugesh, 1000)\n",
        "print(\"Vs Mrugesh:\", results)"
      ],
      "metadata": {
        "colab": {
          "base_uri": "https://localhost:8080/"
        },
        "id": "h05AV15AgHN_",
        "outputId": "e925ab55-8f63-416a-8ad7-4d6c1daa6b29"
      },
      "execution_count": 26,
      "outputs": [
        {
          "output_type": "stream",
          "name": "stdout",
          "text": [
            "Vs Quincy: {'Player 1': 995, 'Player 2': 1, 'Ties': 4}\n",
            "Vs Abbey: {'Player 1': 406, 'Player 2': 221, 'Ties': 373}\n",
            "Vs Kris: {'Player 1': 328, 'Player 2': 320, 'Ties': 352}\n",
            "Vs Mrugesh: {'Player 1': 798, 'Player 2': 179, 'Ties': 23}\n"
          ]
        }
      ]
    }
  ]
}